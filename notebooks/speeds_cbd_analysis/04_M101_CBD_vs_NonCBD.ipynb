{
 "cells": [
  {
   "cell_type": "markdown",
   "id": "5837da9d",
   "metadata": {},
   "source": [
    "# 04_M101_CBD_vs_NonCBD.ipynb\n",
    "Splits M101 into CBD (downtown) vs Non-CBD (uptown) and compares Pre-ACE, ACE-only, ACE+CBD across All-day, AM Rush, PM Rush. Produces tables + optional CSV exports."
   ]
  },
  {
   "cell_type": "code",
   "execution_count": 2,
   "id": "5fa23e39",
   "metadata": {},
   "outputs": [
    {
     "ename": "ModuleNotFoundError",
     "evalue": "No module named 'pandas'",
     "output_type": "error",
     "traceback": [
      "\u001b[0;31m---------------------------------------------------------------------------\u001b[0m",
      "\u001b[0;31mModuleNotFoundError\u001b[0m                       Traceback (most recent call last)",
      "Cell \u001b[0;32mIn[2], line 1\u001b[0m\n\u001b[0;32m----> 1\u001b[0m \u001b[38;5;28;01mimport\u001b[39;00m\u001b[38;5;250m \u001b[39m\u001b[38;5;21;01mpandas\u001b[39;00m\u001b[38;5;250m \u001b[39m\u001b[38;5;28;01mas\u001b[39;00m\u001b[38;5;250m \u001b[39m\u001b[38;5;21;01mpd\u001b[39;00m\n\u001b[1;32m      2\u001b[0m \u001b[38;5;28;01mimport\u001b[39;00m\u001b[38;5;250m \u001b[39m\u001b[38;5;21;01mnumpy\u001b[39;00m\u001b[38;5;250m \u001b[39m\u001b[38;5;28;01mas\u001b[39;00m\u001b[38;5;250m \u001b[39m\u001b[38;5;21;01mnp\u001b[39;00m\n\u001b[1;32m      3\u001b[0m \u001b[38;5;28;01mimport\u001b[39;00m\u001b[38;5;250m \u001b[39m\u001b[38;5;21;01mre\u001b[39;00m\n",
      "\u001b[0;31mModuleNotFoundError\u001b[0m: No module named 'pandas'"
     ]
    }
   ],
   "source": [
    "import pandas as pd\n",
    "import numpy as np\n",
    "import re\n",
    "from IPython.display import display\n"
   ]
  },
  {
   "cell_type": "code",
   "execution_count": null,
   "id": "f670148b",
   "metadata": {},
   "outputs": [],
   "source": [
    "# Load dataset\n",
    "DATA_PATH = \"hunter-speeds-ace-labeled.csv\"  # <- change if needed\n",
    "df = pd.read_csv(DATA_PATH)\n",
    "\n",
    "# Basic parsing/flags\n",
    "df[\"Timestamp\"] = pd.to_datetime(df[\"Timestamp\"], errors=\"coerce\")\n",
    "df[\"Is Weekday\"] = df[\"Timestamp\"].dt.dayofweek.isin([0,1,2,3,4])\n",
    "df[\"Corridor\"] = df[\"Timepoint Stop Name\"] + \" → \" + df[\"Next Timepoint Stop Name\"]\n"
   ]
  },
  {
   "cell_type": "code",
   "execution_count": null,
   "id": "1d4f9b15",
   "metadata": {},
   "outputs": [],
   "source": [
    "# Phase windows (ACE 60-day warning; CBD start)\n",
    "ACE_ANNOUNCE   = pd.Timestamp(\"2024-06-17\")\n",
    "ACE_FINE_START = pd.Timestamp(\"2024-08-16\")\n",
    "CBD_START      = pd.Timestamp(\"2025-01-05\")\n",
    "\n",
    "def phase_label(ts):\n",
    "    if ts < ACE_ANNOUNCE:\n",
    "        return \"Pre-ACE\"\n",
    "    elif ACE_ANNOUNCE <= ts < ACE_FINE_START:\n",
    "        return \"ACE Warning (skip)\"\n",
    "    elif ACE_FINE_START <= ts < CBD_START:\n",
    "        return \"ACE only\"\n",
    "    else:\n",
    "        return \"ACE + CBD\"\n",
    "\n",
    "df[\"Phase\"] = df[\"Timestamp\"].apply(phase_label)\n",
    "df[\"Phase\"].value_counts(dropna=False)\n"
   ]
  },
  {
   "cell_type": "code",
   "execution_count": null,
   "id": "365ab2b1",
   "metadata": {},
   "outputs": [],
   "source": [
    "def wavg(x, w):\n",
    "    x, w = np.asarray(x), np.asarray(w)\n",
    "    return np.average(x, weights=w) if len(x)>0 else np.nan\n",
    "\n",
    "def wpercentile(x, w, q):\n",
    "    x, w = np.asarray(x), np.asarray(w)\n",
    "    if len(x)==0: \n",
    "        return np.nan\n",
    "    idx = np.argsort(x); x, w = x[idx], w[idx]\n",
    "    cumw = np.cumsum(w); cutoff = q * w.sum()\n",
    "    k = np.searchsorted(cumw, cutoff, side=\"left\")\n",
    "    k = int(min(max(k,0), len(x)-1))\n",
    "    return float(x[k])\n"
   ]
  },
  {
   "cell_type": "code",
   "execution_count": null,
   "id": "ed79dd24",
   "metadata": {},
   "outputs": [],
   "source": [
    "# Keep M101 weekdays, drop warning phase\n",
    "m101 = df[(df[\"Route ID\"]==\"M101\") & df[\"Is Weekday\"] & (df[\"Phase\"]!=\"ACE Warning (skip)\")].copy()\n",
    "\n",
    "# Heuristic CBD tag based on corridor text (south of ~59th St cues)\n",
    "CBD_KEYWORDS = [\n",
    "    r\"\\b23\\b\", r\"\\b42\\b\", r\"ASTOR\", r\"\\b14\\b\", r\"HOUSTON\",\n",
    "    r\"\\bE 1 ST\\b\", r\"\\bE 15 ST\\b\", r\"\\bE 34 ST\\b\", r\"\\bE 30 ST\\b\", r\"\\bE 39 ST\\b\"\n",
    "]\n",
    "\n",
    "def tag_cbd(corridor: str) -> str:\n",
    "    if any(re.search(k, corridor, flags=re.IGNORECASE) for k in CBD_KEYWORDS):\n",
    "        return \"CBD\"\n",
    "    return \"Non-CBD\"\n",
    "\n",
    "m101[\"CBD_Area\"] = m101[\"Corridor\"].apply(tag_cbd)\n",
    "m101[[\"Corridor\",\"CBD_Area\"]].head()\n"
   ]
  },
  {
   "cell_type": "code",
   "execution_count": null,
   "id": "fe7c9afc",
   "metadata": {},
   "outputs": [],
   "source": [
    "allday = list(range(6,22))\n",
    "am_hours = [7,8,9]\n",
    "pm_hours = [16,17,18]\n",
    "\n",
    "def summarize_zone(data, hours, label):\n",
    "    sub = data[data[\"Hour of Day\"].isin(hours)]\n",
    "    g = sub.groupby([\"CBD_Area\",\"Phase\"]).apply(\n",
    "        lambda gg: pd.Series({\n",
    "            \"Mean mph\": wavg(gg[\"Average Road Speed\"], gg[\"Bus Trip Count\"]),\n",
    "            \"P10 mph\":  wpercentile(gg[\"Average Road Speed\"], gg[\"Bus Trip Count\"], 0.10),\n",
    "            \"Crawl<5 share\": wavg((gg[\"Average Road Speed\"]<5).astype(float), gg[\"Bus Trip Count\"]),\n",
    "            \"Trips (weight sum)\": gg[\"Bus Trip Count\"].sum()\n",
    "        })\n",
    "    ).reset_index()\n",
    "    g[\"Window\"] = label\n",
    "    return g\n"
   ]
  },
  {
   "cell_type": "code",
   "execution_count": null,
   "id": "deb858f2",
   "metadata": {},
   "outputs": [],
   "source": [
    "all_tbl = summarize_zone(m101, allday, \"All-day (6–22)\")\n",
    "am_tbl  = summarize_zone(m101, am_hours, \"AM Rush (7–9)\")\n",
    "pm_tbl  = summarize_zone(m101, pm_hours, \"PM Rush (16–18)\")\n",
    "\n",
    "summary = pd.concat([all_tbl, am_tbl, pm_tbl], ignore_index=True)\n",
    "display(summary.round(3))\n"
   ]
  },
  {
   "cell_type": "code",
   "execution_count": null,
   "id": "902224b0",
   "metadata": {},
   "outputs": [],
   "source": [
    "def add_pct_changes(tbl: pd.DataFrame, metric: str):\n",
    "    piv = tbl.pivot_table(index=[\"Window\",\"CBD_Area\"], columns=\"Phase\", values=metric).reset_index()\n",
    "    if set([\"Pre-ACE\",\"ACE only\"]).issubset(piv.columns):\n",
    "        piv[f\"%Δ {metric} (ACE vs Pre)\"] = (piv[\"ACE only\"] - piv[\"Pre-ACE\"]) / piv[\"Pre-ACE\"] * 100\n",
    "    if set([\"ACE only\",\"ACE + CBD\"]).issubset(piv.columns):\n",
    "        piv[f\"%Δ {metric} (CBD vs ACE)\"] = (piv[\"ACE + CBD\"] - piv[\"ACE only\"]) / piv[\"ACE only\"] * 100\n",
    "    return piv\n",
    "\n",
    "mean_changes  = add_pct_changes(summary, \"Mean mph\")\n",
    "p10_changes   = add_pct_changes(summary, \"P10 mph\")\n",
    "crawl_changes = add_pct_changes(summary, \"Crawl<5 share\")\n",
    "\n",
    "print(\"\\nMean mph — % changes\")\n",
    "display(mean_changes.round(3))\n",
    "\n",
    "print(\"\\nP10 mph — % changes (reliability)\")\n",
    "display(p10_changes.round(3))\n",
    "\n",
    "print(\"\\nCrawl<5 share — % changes\")\n",
    "display(crawl_changes.round(4))\n"
   ]
  },
  {
   "cell_type": "code",
   "execution_count": null,
   "id": "ec3aa8a2",
   "metadata": {},
   "outputs": [],
   "source": [
    "def segment_pm_table(data):\n",
    "    sub = data[data[\"Hour of Day\"].isin(pm_hours)].copy()\n",
    "    g = (sub.groupby([\"CBD_Area\",\"Corridor\",\"Direction\",\"Phase\"])\n",
    "           .apply(lambda gg: wavg(gg[\"Average Road Speed\"], gg[\"Bus Trip Count\"]))\n",
    "           .reset_index(name=\"Avg_mph\"))\n",
    "    piv = g.pivot_table(index=[\"CBD_Area\",\"Corridor\",\"Direction\"], columns=\"Phase\", values=\"Avg_mph\").reset_index()\n",
    "    # % deltas\n",
    "    if {\"Pre-ACE\",\"ACE only\"}.issubset(piv.columns):\n",
    "        piv[\"%Δ (ACE vs Pre)\"] = (piv[\"ACE only\"] - piv[\"Pre-ACE\"]) / piv[\"Pre-ACE\"] * 100\n",
    "    if {\"ACE only\",\"ACE + CBD\"}.issubset(piv.columns):\n",
    "        piv[\"%Δ (CBD vs ACE)\"] = (piv[\"ACE + CBD\"] - piv[\"ACE only\"]) / piv[\"ACE only\"] * 100\n",
    "    return piv\n",
    "\n",
    "pm_segments = segment_pm_table(m101)\n",
    "display(pm_segments.sort_values([\"CBD_Area\",\"%Δ (CBD vs ACE)\"], ascending=[True,False]).round(3).head(20))\n"
   ]
  },
  {
   "cell_type": "code",
   "execution_count": null,
   "id": "427fde8d",
   "metadata": {},
   "outputs": [],
   "source": [
    "summary.round(3).to_csv(\"M101_CBD_vs_NonCBD_Summary_ByWindow.csv\", index=False)\n",
    "mean_changes.round(3).to_csv(\"M101_CBD_vs_NonCBD_MeanPctChanges.csv\", index=False)\n",
    "p10_changes.round(3).to_csv(\"M101_CBD_vs_NonCBD_P10PctChanges.csv\", index=False)\n",
    "crawl_changes.round(4).to_csv(\"M101_CBD_vs_NonCBD_CrawlPctChanges.csv\", index=False)\n",
    "pm_segments.round(3).to_csv(\"M101_CBD_vs_NonCBD_PM_SegmentDrilldown.csv\", index=False)\n",
    "\n",
    "print(\"\\nExports written:\")\n",
    "print(\" - M101_CBD_vs_NonCBD_Summary_ByWindow.csv\")\n",
    "print(\" - M101_CBD_vs_NonCBD_MeanPctChanges.csv\")\n",
    "print(\" - M101_CBD_vs_NonCBD_P10PctChanges.csv\")\n",
    "print(\" - M101_CBD_vs_NonCBD_CrawlPctChanges.csv\")\n",
    "print(\" - M101_CBD_vs_NonCBD_PM_SegmentDrilldown.csv\")\n"
   ]
  },
  {
   "cell_type": "code",
   "execution_count": null,
   "id": "2e8059cb",
   "metadata": {},
   "outputs": [],
   "source": []
  }
 ],
 "metadata": {
  "kernelspec": {
   "display_name": "Python 3",
   "language": "python",
   "name": "python3"
  },
  "language_info": {
   "codemirror_mode": {
    "name": "ipython",
    "version": 3
   },
   "file_extension": ".py",
   "mimetype": "text/x-python",
   "name": "python",
   "nbconvert_exporter": "python",
   "pygments_lexer": "ipython3",
   "version": "3.9.6"
  }
 },
 "nbformat": 4,
 "nbformat_minor": 5
}
