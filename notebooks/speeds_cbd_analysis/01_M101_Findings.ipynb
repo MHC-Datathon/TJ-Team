{
 "cells": [
  {
   "cell_type": "markdown",
   "id": "f815801b",
   "metadata": {},
   "source": [
    "# 01_M101_Findings.ipynb\n",
    "Reproduces M101 findings: route-wide, AM/PM rush, hotspots, 10th percentile, crawl-share."
   ]
  },
  {
   "cell_type": "code",
   "execution_count": null,
   "id": "8b4e786b",
   "metadata": {},
   "outputs": [],
   "source": [
    "import pandas as pd\n",
    "import numpy as np\n",
    "import re\n",
    "from IPython.display import display"
   ]
  },
  {
   "cell_type": "code",
   "execution_count": null,
   "id": "6533c199",
   "metadata": {},
   "outputs": [],
   "source": [
    "# Load dataset\n",
    "DATA_PATH = \"data_work/hunter-speeds-ace-labeled.parquet\"  # <- update path if needed\n",
    "df = pd.read_csv(DATA_PATH)\n",
    "df.head()"
   ]
  },
  {
   "cell_type": "code",
   "execution_count": null,
   "id": "5d4c8cd5",
   "metadata": {},
   "outputs": [],
   "source": [
    "# Parse timestamps and create flags\n",
    "df[\"Timestamp\"] = pd.to_datetime(df[\"Timestamp\"], errors=\"coerce\")\n",
    "df[\"Is Weekday\"] = df[\"Timestamp\"].dt.dayofweek.isin([0, 1, 2, 3, 4])\n",
    "df[\"Corridor\"] = df[\"Timepoint Stop Name\"] + \" → \" + df[\"Next Timepoint Stop Name\"]"
   ]
  },
  {
   "cell_type": "code",
   "execution_count": null,
   "id": "da96d6ec",
   "metadata": {},
   "outputs": [],
   "source": [
    "# Phase windows\n",
    "ACE_ANNOUNCE = pd.Timestamp(\"2024-06-17\")\n",
    "ACE_FINE_START = pd.Timestamp(\"2024-08-16\")  # ~60 days later\n",
    "CBD_START = pd.Timestamp(\"2025-01-05\")"
   ]
  },
  {
   "cell_type": "code",
   "execution_count": null,
   "id": "642ddecb",
   "metadata": {},
   "outputs": [],
   "source": [
    "def phase_label(ts):\n",
    "    if ts < ACE_ANNOUNCE:\n",
    "        return \"Pre-ACE\"\n",
    "    elif ACE_ANNOUNCE <= ts < ACE_FINE_START:\n",
    "        return \"ACE Warning (skip)\"\n",
    "    elif ACE_FINE_START <= ts < CBD_START:\n",
    "        return \"ACE only\"\n",
    "    else:\n",
    "        return \"ACE + CBD\"\n",
    "\n",
    "df[\"Phase\"] = df[\"Timestamp\"].apply(phase_label)\n",
    "df[\"Phase\"].value_counts(dropna=False)\n"
   ]
  },
  {
   "cell_type": "code",
   "execution_count": null,
   "id": "bfe4d539",
   "metadata": {},
   "outputs": [],
   "source": [
    "# Weighted helpers\n",
    "def wavg(x, w): \n",
    "    x, w = np.asarray(x), np.asarray(w)\n",
    "    return np.average(x, weights=w) if len(x) > 0 else np.nan\n",
    "\n",
    "def wpercentile(x, w, q):\n",
    "    x, w = np.asarray(x), np.asarray(w)\n",
    "    if len(x) == 0:\n",
    "        return np.nan\n",
    "    idx = np.argsort(x)\n",
    "    x, w = x[idx], w[idx]\n",
    "    cumw = np.cumsum(w)\n",
    "    cutoff = q * w.sum()\n",
    "    k = np.searchsorted(cumw, cutoff, side=\"left\")\n",
    "    k = int(min(max(k, 0), len(x) - 1))\n",
    "    return float(x[k])\n"
   ]
  },
  {
   "cell_type": "code",
   "execution_count": null,
   "id": "97ababdf",
   "metadata": {},
   "outputs": [],
   "source": [
    "# ROUTE-WIDE STATS\n",
    "m101 = df[(df[\"Route ID\"] == \"M101\") & df[\"Is Weekday\"] & (df[\"Phase\"] != \"ACE Warning (skip)\")]\n",
    "allday = list(range(6, 22))\n",
    "\n",
    "sub = m101[m101[\"Hour of Day\"].isin(allday)]\n",
    "summary = []\n",
    "for p, gg in sub.groupby(\"Phase\"):\n",
    "    summary.append({\n",
    "        \"Phase\": p,\n",
    "        \"Avg mph\": wavg(gg[\"Average Road Speed\"], gg[\"Bus Trip Count\"]),\n",
    "        \"P10 mph\": wpercentile(gg[\"Average Road Speed\"], gg[\"Bus Trip Count\"], 0.10),\n",
    "        \"Crawl <5 share\": wavg((gg[\"Average Road Speed\"] < 5).astype(float), gg[\"Bus Trip Count\"]),\n",
    "    })\n",
    "\n",
    "routewide_df = pd.DataFrame(summary).sort_values(\"Phase\")\n",
    "display(routewide_df.round(3))\n"
   ]
  },
  {
   "cell_type": "code",
   "execution_count": null,
   "id": "c8226cd0",
   "metadata": {},
   "outputs": [],
   "source": [
    "# AM/PM RUSH HOTSPOTS\n",
    "def corridor_stats_exact(route_id, corridor_name, hours):\n",
    "    sub = df[(df[\"Route ID\"] == route_id) & df[\"Is Weekday\"] & (df[\"Phase\"] != \"ACE Warning (skip)\")]\n",
    "    sub = sub[sub[\"Corridor\"] == corridor_name]\n",
    "    sub = sub[sub[\"Hour of Day\"].isin(hours)]\n",
    "    if sub.empty:\n",
    "        return None\n",
    "    return sub.groupby(\"Phase\").apply(lambda g: wavg(g[\"Average Road Speed\"], g[\"Bus Trip Count\"])).to_dict()\n",
    "\n",
    "am_hours = [7, 8, 9]\n",
    "pm_hours = [16, 17, 18]\n"
   ]
  },
  {
   "cell_type": "code",
   "execution_count": null,
   "id": "1363a3dd",
   "metadata": {},
   "outputs": [],
   "source": [
    "print(\"AM Rush:\")\n",
    "am_corridors = [\n",
    "    \"3 AV/E 99 ST → 3 AV/E 125 ST\",\n",
    "    \"3 AV/E 23 ST → AV/ASTOR PL\",\n",
    "    \"3 AV/E 23 ST → 3 AV/E 42 ST\",\n",
    "    \"LEXINGTON AV/E 96 ST → LEXINGTON AV/E 68 ST\",\n",
    "    \"LEXINGTON AV/E 100 ST → LEXINGTON AV/E 96 ST\",\n",
    "]\n",
    "\n",
    "for c in am_corridors:\n",
    "    print(c, corridor_stats_exact(\"M101\", c, am_hours))\n"
   ]
  },
  {
   "cell_type": "code",
   "execution_count": null,
   "id": "42e89c2b",
   "metadata": {},
   "outputs": [],
   "source": [
    "print(\"PM Rush:\")\n",
    "pm_corridors = [\n",
    "    \"LEXINGTON AV/E 68 ST → LEXINGTON AV/E 59 ST\",\n",
    "    \"3 AV/E 23 ST → 3 AV/E 42 ST\",\n",
    "    \"3 AV/E 23 ST → AV/ASTOR PL\",\n",
    "    \"3 AV/E 67 ST → 3 AV/E 39 ST\",\n",
    "    \"3 AV/E 125 ST → AMSTERDAM AV\",\n",
    "]\n",
    "\n",
    "for c in pm_corridors:\n",
    "    print(c, corridor_stats_exact(\"M101\", c, pm_hours))"
   ]
  },
  {
   "cell_type": "code",
   "execution_count": null,
   "id": "639990f7",
   "metadata": {},
   "outputs": [],
   "source": [
    "# WORST TRIPS (10th percentile)\n",
    "def p10_by_corridor(route_id, corridors, hours):\n",
    "    rows = []\n",
    "    sub = df[(df[\"Route ID\"] == route_id) & df[\"Is Weekday\"] & (df[\"Phase\"] != \"ACE Warning (skip)\")]\n",
    "    sub = sub[sub[\"Hour of Day\"].isin(hours)]\n",
    "    for c in corridors:\n",
    "        ss = sub[sub[\"Corridor\"] == c]\n",
    "        if ss.empty:\n",
    "            continue\n",
    "        d = {}\n",
    "        for p, gg in ss.groupby(\"Phase\"):\n",
    "            d[p] = wpercentile(gg[\"Average Road Speed\"], gg[\"Bus Trip Count\"], 0.10)\n",
    "        if \"Pre-ACE\" in d and \"ACE only\" in d:\n",
    "            rows.append({\n",
    "                \"Corridor\": c,\n",
    "                \"Pre P10\": d[\"Pre-ACE\"],\n",
    "                \"Post P10\": d[\"ACE only\"],\n",
    "                \"Pct Δ %\": (d[\"ACE only\"] - d[\"Pre-ACE\"]) / d[\"Pre-ACE\"] * 100 if d[\"Pre-ACE\"] not in (0, np.nan) else np.nan,\n",
    "            })\n",
    "    return pd.DataFrame(rows)\n"
   ]
  },
  {
   "cell_type": "code",
   "execution_count": null,
   "id": "cbff82cd",
   "metadata": {},
   "outputs": [],
   "source": [
    "print(\"\\nPM Rush P10:\")\n",
    "pm_p10_df = p10_by_corridor(\"M101\", [\n",
    "    \"LEXINGTON AV/E 68 ST → LEXINGTON AV/E 59 ST\",\n",
    "    \"3 AV/E 23 ST → 3 AV/E 42 ST\",\n",
    "    \"3 AV/E 23 ST → AV/ASTOR PL\",\n",
    "    \"3 AV/E 125 ST → AMSTERDAM AV\",\n",
    "], pm_hours).round(3)\n",
    "\n",
    "display(pm_p10_df)\n"
   ]
  },
  {
   "cell_type": "code",
   "execution_count": null,
   "id": "9d4c5d2a",
   "metadata": {},
   "outputs": [],
   "source": [
    "print(\"\\nAM Rush P10:\")\n",
    "am_p10_df = p10_by_corridor(\"M101\", [\n",
    "    \"3 AV/E 99 ST → 3 AV/E 125 ST\",\n",
    "], am_hours).round(3)\n",
    "\n",
    "display(am_p10_df)\n"
   ]
  }
 ],
 "metadata": {
  "kernelspec": {
   "display_name": "Python 3",
   "language": "python",
   "name": "python3"
  },
  "language_info": {
   "name": "python",
   "version": "3.9.6"
  }
 },
 "nbformat": 4,
 "nbformat_minor": 5
}
