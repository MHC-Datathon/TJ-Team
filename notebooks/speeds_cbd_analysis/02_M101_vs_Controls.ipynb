{
 "cells": [
  {
   "cell_type": "markdown",
   "id": "8cc6b1d9",
   "metadata": {},
   "source": [
    "# 02_M101_vs_Controls.ipynb\n",
    "Compare M101 (ACE) vs M102/M103 (controls): route-wide and PM-rush worst trips on key corridors."
   ]
  },
  {
   "cell_type": "code",
   "execution_count": 1,
   "id": "4be94ede",
   "metadata": {},
   "outputs": [
    {
     "ename": "ModuleNotFoundError",
     "evalue": "No module named 'pandas'",
     "output_type": "error",
     "traceback": [
      "\u001b[0;31m---------------------------------------------------------------------------\u001b[0m",
      "\u001b[0;31mModuleNotFoundError\u001b[0m                       Traceback (most recent call last)",
      "Cell \u001b[0;32mIn[1], line 1\u001b[0m\n\u001b[0;32m----> 1\u001b[0m \u001b[38;5;28;01mimport\u001b[39;00m\u001b[38;5;250m \u001b[39m\u001b[38;5;21;01mpandas\u001b[39;00m\u001b[38;5;250m \u001b[39m\u001b[38;5;28;01mas\u001b[39;00m\u001b[38;5;250m \u001b[39m\u001b[38;5;21;01mpd\u001b[39;00m\n\u001b[1;32m      2\u001b[0m \u001b[38;5;28;01mimport\u001b[39;00m\u001b[38;5;250m \u001b[39m\u001b[38;5;21;01mnumpy\u001b[39;00m\u001b[38;5;250m \u001b[39m\u001b[38;5;28;01mas\u001b[39;00m\u001b[38;5;250m \u001b[39m\u001b[38;5;21;01mnp\u001b[39;00m\n\u001b[1;32m      3\u001b[0m \u001b[38;5;28;01mfrom\u001b[39;00m\u001b[38;5;250m \u001b[39m\u001b[38;5;21;01mIPython\u001b[39;00m\u001b[38;5;21;01m.\u001b[39;00m\u001b[38;5;21;01mdisplay\u001b[39;00m\u001b[38;5;250m \u001b[39m\u001b[38;5;28;01mimport\u001b[39;00m display\n",
      "\u001b[0;31mModuleNotFoundError\u001b[0m: No module named 'pandas'"
     ]
    }
   ],
   "source": [
    "import pandas as pd\n",
    "import numpy as np\n",
    "from IPython.display import display\n"
   ]
  },
  {
   "cell_type": "code",
   "execution_count": null,
   "id": "0dfd6245",
   "metadata": {},
   "outputs": [],
   "source": [
    "# Load dataset\n",
    "DATA_PATH = \"hunter-speeds-ace-labeled.csv\"  # <- change if needed\n",
    "df = pd.read_csv(DATA_PATH)\n",
    "\n",
    "# Basic preprocessing\n",
    "df[\"Timestamp\"] = pd.to_datetime(df[\"Timestamp\"], errors=\"coerce\")\n",
    "df[\"Is Weekday\"] = df[\"Timestamp\"].dt.dayofweek.isin([0,1,2,3,4])\n",
    "df[\"Corridor\"] = df[\"Timepoint Stop Name\"] + \" → \" + df[\"Next Timepoint Stop Name\"]\n"
   ]
  },
  {
   "cell_type": "code",
   "execution_count": null,
   "id": "bd5e69d6",
   "metadata": {},
   "outputs": [],
   "source": [
    "# ACE/CBD phase windows (using 60-day warning for ACE)\n",
    "ACE_ANNOUNCE = pd.Timestamp(\"2024-06-17\")\n",
    "ACE_FINE_START = pd.Timestamp(\"2024-08-16\")  # ~60-day warning ends\n",
    "CBD_START = pd.Timestamp(\"2025-01-05\")\n",
    "\n",
    "def phase_label(ts):\n",
    "    if ts < ACE_ANNOUNCE:\n",
    "        return \"Pre-ACE\"\n",
    "    elif ACE_ANNOUNCE <= ts < ACE_FINE_START:\n",
    "        return \"ACE Warning (skip)\"\n",
    "    elif ACE_FINE_START <= ts < CBD_START:\n",
    "        return \"ACE only\"\n",
    "    else:\n",
    "        return \"ACE + CBD\"\n",
    "\n",
    "df[\"Phase\"] = df[\"Timestamp\"].apply(phase_label)\n",
    "df[\"Phase\"].value_counts(dropna=False)\n"
   ]
  },
  {
   "cell_type": "code",
   "execution_count": null,
   "id": "4b1b370e",
   "metadata": {},
   "outputs": [],
   "source": [
    "# Weighted helpers\n",
    "def wavg(x, w):\n",
    "    x, w = np.asarray(x), np.asarray(w)\n",
    "    return np.average(x, weights=w) if len(x) else np.nan\n",
    "\n",
    "def wpercentile(x, w, q):\n",
    "    x, w = np.asarray(x), np.asarray(w)\n",
    "    if len(x) == 0: \n",
    "        return np.nan\n",
    "    idx = np.argsort(x); x, w = x[idx], w[idx]\n",
    "    cumw = np.cumsum(w); cutoff = q * w.sum()\n",
    "    k = np.searchsorted(cumw, cutoff, side=\"left\")\n",
    "    k = int(min(max(k,0), len(x)-1))\n",
    "    return float(x[k])\n"
   ]
  },
  {
   "cell_type": "code",
   "execution_count": null,
   "id": "435a347a",
   "metadata": {},
   "outputs": [],
   "source": [
    "# Common filters\n",
    "routes = [\"M101\",\"M102\",\"M103\"]\n",
    "allday_hours = list(range(6,22))\n",
    "pm_hours = [16,17,18]\n",
    "\n",
    "base = df[df[\"Is Weekday\"] & (df[\"Phase\"]!=\"ACE Warning (skip)\")].copy()\n"
   ]
  },
  {
   "cell_type": "code",
   "execution_count": null,
   "id": "a984cee3",
   "metadata": {},
   "outputs": [],
   "source": [
    "# 1) Route-wide (all-day) comparison: Avg mph & P10 mph\n",
    "rows = []\n",
    "for r in routes:\n",
    "    sub = base[(base[\"Route ID\"]==r) & (base[\"Hour of Day\"].isin(allday_hours))]\n",
    "    for p, gg in sub.groupby(\"Phase\"):\n",
    "        rows.append({\n",
    "            \"Route\": r,\n",
    "            \"Phase\": p,\n",
    "            \"Avg mph\": wavg(gg[\"Average Road Speed\"], gg[\"Bus Trip Count\"]),\n",
    "            \"P10 mph\": wpercentile(gg[\"Average Road Speed\"], gg[\"Bus Trip Count\"], 0.10),\n",
    "            \"Crawl<5 share\": wavg((gg[\"Average Road Speed\"]<5).astype(float), gg[\"Bus Trip Count\"])\n",
    "        })\n",
    "\n",
    "routewide = pd.DataFrame(rows).sort_values([\"Route\",\"Phase\"])\n",
    "display(routewide.round(3))\n"
   ]
  },
  {
   "cell_type": "code",
   "execution_count": null,
   "id": "3063ca08",
   "metadata": {},
   "outputs": [],
   "source": [
    "# Optional: quick pivot to see pre vs post %Δ for route-wide averages\n",
    "def pct_change_table(df_in, metric):\n",
    "    piv = df_in.pivot_table(index=\"Route\", columns=\"Phase\", values=metric)\n",
    "    if {\"Pre-ACE\",\"ACE only\"}.issubset(piv.columns):\n",
    "        piv[\"%Δ (ACE vs Pre)\"] = (piv[\"ACE only\"] - piv[\"Pre-ACE\"]) / piv[\"Pre-ACE\"] * 100\n",
    "    if {\"ACE only\",\"ACE + CBD\"}.issubset(piv.columns):\n",
    "        piv[\"%Δ (CBD vs ACE)\"] = (piv[\"ACE + CBD\"] - piv[\"ACE only\"]) / piv[\"ACE only\"] * 100\n",
    "    return piv\n"
   ]
  },
  {
   "cell_type": "code",
   "execution_count": null,
   "id": "81295a3a",
   "metadata": {},
   "outputs": [],
   "source": [
    "print(\"\\nRoute-wide % changes — Avg mph\")\n",
    "display(pct_change_table(routewide, \"Avg mph\").round(2))\n",
    "\n",
    "print(\"\\nRoute-wide % changes — P10 mph\")\n",
    "display(pct_change_table(routewide, \"P10 mph\").round(2))\n",
    "\n",
    "print(\"\\nRoute-wide % changes — Crawl<5 share\")\n",
    "display(pct_change_table(routewide, \"Crawl<5 share\").round(3))\n"
   ]
  },
  {
   "cell_type": "code",
   "execution_count": null,
   "id": "649efb95",
   "metadata": {},
   "outputs": [],
   "source": [
    "# 2) PM-rush “worst trips” (10th percentile) on key corridors\n",
    "def p10_table(route_list, corridor, hours):\n",
    "    out = []\n",
    "    sub = base[(base[\"Corridor\"]==corridor) & (base[\"Hour of Day\"].isin(hours))]\n",
    "    for r in route_list:\n",
    "        ss = sub[sub[\"Route ID\"]==r]\n",
    "        if ss.empty: \n",
    "            continue\n",
    "        phases = {}\n",
    "        for p, gg in ss.groupby(\"Phase\"):\n",
    "            phases[p] = wpercentile(gg[\"Average Road Speed\"], gg[\"Bus Trip Count\"], 0.10)\n",
    "        if \"Pre-ACE\" in phases and \"ACE only\" in phases:\n",
    "            out.append({\n",
    "                \"Route\": r,\n",
    "                \"Corridor\": corridor,\n",
    "                \"Pre P10 mph\": phases[\"Pre-ACE\"],\n",
    "                \"Post P10 mph (ACE only)\": phases[\"ACE only\"],\n",
    "                \"%Δ (ACE vs Pre)\": (phases[\"ACE only\"]-phases[\"Pre-ACE\"])/phases[\"Pre-ACE\"]*100\n",
    "            })\n",
    "    return pd.DataFrame(out).sort_values(\"Route\")\n"
   ]
  },
  {
   "cell_type": "code",
   "execution_count": null,
   "id": "ad18a99c",
   "metadata": {},
   "outputs": [],
   "source": [
    "print(\"\\nPM Rush (4–6 PM) — Hunter stop (Lex 68 → 59 SB)\")\n",
    "hunter_p10 = p10_table(routes, \"LEXINGTON AV/E 68 ST → LEXINGTON AV/E 59 ST\", pm_hours)\n",
    "display(hunter_p10.round(3))\n",
    "\n",
    "print(\"\\nPM Rush (4–6 PM) — Midtown South (3 AV 23 → 42 NB)\")\n",
    "midtown_p10 = p10_table([\"M101\",\"M102\"], \"3 AV/E 23 ST → 3 AV/E 42 ST\", pm_hours)\n",
    "display(midtown_p10.round(3))\n"
   ]
  },
  {
   "cell_type": "code",
   "execution_count": null,
   "id": "062fcd00",
   "metadata": {},
   "outputs": [],
   "source": [
    "# 3) (Optional) Quick “choke point” averages for the same corridors\n",
    "def mean_table(route_list, corridor, hours):\n",
    "    out = []\n",
    "    sub = base[(base[\"Corridor\"]==corridor) & (base[\"Hour of Day\"].isin(hours))]\n",
    "    for r in route_list:\n",
    "        ss = sub[sub[\"Route ID\"]==r]\n",
    "        if ss.empty: \n",
    "            continue\n",
    "        phases = {}\n",
    "        for p, gg in ss.groupby(\"Phase\"):\n",
    "            phases[p] = wavg(gg[\"Average Road Speed\"], gg[\"Bus Trip Count\"])\n",
    "        if \"Pre-ACE\" in phases and \"ACE only\" in phases:\n",
    "            out.append({\n",
    "                \"Route\": r,\n",
    "                \"Corridor\": corridor,\n",
    "                \"Pre Avg mph\": phases[\"Pre-ACE\"],\n",
    "                \"Post Avg mph (ACE only)\": phases[\"ACE only\"],\n",
    "                \"%Δ (ACE vs Pre)\": (phases[\"ACE only\"]-phases[\"Pre-ACE\"])/phases[\"Pre-ACE\"]*100\n",
    "            })\n",
    "    return pd.DataFrame(out).sort_values(\"Route\")\n"
   ]
  },
  {
   "cell_type": "code",
   "execution_count": null,
   "id": "a7ce27d7",
   "metadata": {},
   "outputs": [],
   "source": [
    "print(\"\\nPM Rush (4–6 PM) — Hunter stop (Lex 68 → 59 SB) — MEAN speeds\")\n",
    "display(mean_table(routes, \"LEXINGTON AV/E 68 ST → LEXINGTON AV/E 59 ST\", pm_hours).round(3))\n",
    "\n",
    "print(\"\\nPM Rush (4–6 PM) — Midtown South (3 AV 23 → 42 NB) — MEAN speeds\")\n",
    "display(mean_table([\"M101\",\"M102\"], \"3 AV/E 23 ST → 3 AV/E 42 ST\", pm_hours).round(3))\n"
   ]
  },
  {
   "cell_type": "code",
   "execution_count": null,
   "id": "2414e228",
   "metadata": {},
   "outputs": [],
   "source": []
  }
 ],
 "metadata": {
  "kernelspec": {
   "display_name": "Python 3",
   "language": "python",
   "name": "python3"
  },
  "language_info": {
   "codemirror_mode": {
    "name": "ipython",
    "version": 3
   },
   "file_extension": ".py",
   "mimetype": "text/x-python",
   "name": "python",
   "nbconvert_exporter": "python",
   "pygments_lexer": "ipython3",
   "version": "3.9.6"
  }
 },
 "nbformat": 4,
 "nbformat_minor": 5
}
