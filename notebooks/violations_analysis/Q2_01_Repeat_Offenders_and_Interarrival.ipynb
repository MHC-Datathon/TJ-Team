{
 "cells": [
  {
   "cell_type": "markdown",
   "id": "8fcb239c",
   "metadata": {},
   "source": [
    "# Q2 — Repeat Offenders & Interarrival (Exact Recompute)\n",
    "**Source:** `violations_routes_filtered.csv`\n",
    "**Scope:** Routes M101, M60+, M15+; `is_exempt == True`\n",
    "**Outputs match prior chat deliverables.**"
   ]
  },
  {
   "cell_type": "code",
   "execution_count": null,
   "id": "47e9854e",
   "metadata": {},
   "outputs": [],
   "source": [
    "# imports\n",
    "import pandas as pd, numpy as np\n",
    "from pathlib import Path\n",
    "from IPython.display import display  # for displaying DataFrames in notebook\n"
   ]
  },
  {
   "cell_type": "code",
   "execution_count": null,
   "id": "2097ae4c",
   "metadata": {},
   "outputs": [],
   "source": [
    "# load data and basic setup\n",
    "DATA = \"/mnt/data/violations_routes_filtered.csv\"\n",
    "print(\"Reading:\", DATA)\n",
    "usecols = [\"Bus Route ID\",\"Datetime\",\"is_exempt\",\"Violation Status\",\"Stop Name\",\"Vehicle ID\"]\n",
    "df = pd.read_csv(DATA, usecols=usecols, low_memory=True)\n",
    "df.columns = [c.strip() for c in df.columns]\n"
   ]
  },
  {
   "cell_type": "code",
   "execution_count": null,
   "id": "c015e67f",
   "metadata": {},
   "outputs": [],
   "source": [
    "# tag routes of interest (normalize M101, M60+, M15+)\n",
    "def route_tag(r):\n",
    "    if pd.isna(r): return None\n",
    "    r = str(r).upper().strip()\n",
    "    if r.startswith(\"M101\"): return \"M101\"\n",
    "    if r.startswith(\"M60\"):  return \"M60+\" if (\"SBS\" in r or \"+\" in r or \"-SBS\" in r or \"-\" in r) else \"M60\"\n",
    "    if r.startswith(\"M15\"):  return \"M15+\" if ((\"SBS\" in r) or (\"+\" in r) or (\"-SBS\" in r)) else \"M15\"\n",
    "    return r\n",
    "\n",
    "df[\"route_tag\"] = df[\"Bus Route ID\"].apply(route_tag)\n",
    "df = df[df[\"route_tag\"].isin([\"M101\",\"M60+\",\"M15+\"])]\n",
    "df[\"is_exempt\"] = df[\"is_exempt\"].astype(str).str.lower().isin([\"true\",\"1\",\"t\",\"yes\",\"y\"])\n"
   ]
  },
  {
   "cell_type": "code",
   "execution_count": null,
   "id": "307ec4a6",
   "metadata": {},
   "outputs": [],
   "source": [
    "# create exempt only frame and parse dates\n",
    "ex = df[df[\"is_exempt\"]==True].copy()\n",
    "ex[\"Datetime\"] = pd.to_datetime(ex[\"Datetime\"], errors=\"coerce\", infer_datetime_format=True)\n"
   ]
  },
  {
   "cell_type": "code",
   "execution_count": null,
   "id": "3dd4c3b0",
   "metadata": {},
   "outputs": [],
   "source": [
    "# helpers to build repeat-offender buckets and top offenders per route\n",
    "def bucket_table(route):\n",
    "    d = ex[(ex[\"route_tag\"]==route) & (ex[\"Vehicle ID\"].notna())]\n",
    "    vc = d.groupby(\"Vehicle ID\").size()\n",
    "    bins = [0,1,5,10,25,50,10**9]\n",
    "    labels = [\"=1\",\"2-5\",\"6-10\",\"11-25\",\"26-50\",\">50\"]\n",
    "    cats = pd.cut(vc, bins=bins, labels=labels, right=True, include_lowest=True)\n",
    "    dist = cats.value_counts().reindex(labels).fillna(0).astype(int)\n",
    "    dist_pct = (dist/dist.sum()*100).round(2)\n",
    "    out = pd.DataFrame({\"count\": dist, \"pct\": dist_pct})\n",
    "    out.loc[\"unique_exempt_vehicles\"] = [int(vc.shape[0]), 100.0]\n",
    "    return out, vc.sort_values(ascending=False)\n"
   ]
  },
  {
   "cell_type": "code",
   "execution_count": null,
   "id": "95ce6730",
   "metadata": {},
   "outputs": [],
   "source": [
    "# build summaries and show top repeat offenders per route\n",
    "summary = {}\n",
    "tops = {}\n",
    "for r in [\"M101\",\"M60+\",\"M15+\"]:\n",
    "    tab, vc = bucket_table(r)\n",
    "    summary[r] = tab\n",
    "    tops[r] = vc.head(10)\n",
    "\n",
    "for r in summary:\n",
    "    print(f\"\\n=== {r} — Violations per Vehicle (counts & %) ===\")\n",
    "    display(summary[r])\n",
    "    print(f\"\\n{r} — Top 10 offenders (counts)\")\n",
    "    display(tops[r])\n"
   ]
  },
  {
   "cell_type": "code",
   "execution_count": null,
   "id": "c2b1e0d5",
   "metadata": {},
   "outputs": [],
   "source": [
    "# compute inter-arrival (days between repeats) and summarize by route\n",
    "e = ex.dropna(subset=[\"Vehicle ID\",\"Datetime\"]).sort_values([\"Vehicle ID\",\"Datetime\"]).copy()\n",
    "e[\"prev_vid\"] = e[\"Vehicle ID\"].shift(1); e[\"prev_time\"] = e[\"Datetime\"].shift(1)\n",
    "same = e[\"Vehicle ID\"]==e[\"prev_vid\"]\n",
    "e[\"delta_days\"] = np.where(same, (e[\"Datetime\"]-e[\"prev_time\"]).dt.total_seconds()/(3600*24), np.nan)\n",
    "intervals = e.loc[same & e[\"delta_days\"].notna(), [\"route_tag\",\"Vehicle ID\",\"delta_days\"]]\n",
    "\n",
    "inter = (intervals.groupby(\"route_tag\")[\"delta_days\"]\n",
    "         .agg(n_intervals=\"count\",\n",
    "              median_days_between=lambda s: round(float(s.median()),2),\n",
    "              mean_days_between=lambda s: round(float(s.mean()),2),\n",
    "              p75_days_between=lambda s: round(float(s.quantile(0.75)),2),\n",
    "              p90_days_between=lambda s: round(float(s.quantile(0.90)),2))\n",
    "         .reset_index())\n",
    "\n",
    "rep_counts = intervals.groupby(\"route_tag\")[\"Vehicle ID\"].nunique().rename(\"n_repeat_vehicles\").reset_index()\n",
    "inter = inter.merge(rep_counts, on=\"route_tag\", how=\"left\")\n",
    "display(inter)\n"
   ]
  },
  {
   "cell_type": "code",
   "execution_count": null,
   "id": "0b2d745d",
   "metadata": {},
   "outputs": [],
   "source": [
    "# save csv outputs for distributions, top offenders, and inter-arrival summary\n",
    "outdir = Path(\"/mnt/data/q2_notebooks/outputs\"); outdir.mkdir(parents=True, exist_ok=True)\n",
    "for r, tab in summary.items():\n",
    "    tab.to_csv(outdir/f\"repeat_distribution_{r}.csv\")\n",
    "for r, vc in tops.items():\n",
    "    vc.to_csv(outdir/f\"top10_offenders_{r}.csv\", header=[\"exempt_violations_count\"])\n",
    "inter.to_csv(outdir/\"interarrival_summary.csv\", index=False)\n",
    "print(\"Saved outputs to\", outdir)\n"
   ]
  },
  {
   "cell_type": "code",
   "execution_count": null,
   "id": "5cdfeabb",
   "metadata": {},
   "outputs": [],
   "source": []
  }
 ],
 "metadata": {
  "language_info": {
   "name": "python"
  }
 },
 "nbformat": 4,
 "nbformat_minor": 5
}
