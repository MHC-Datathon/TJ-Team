{
 "cells": [
  {
   "cell_type": "markdown",
   "id": "4342ab7e",
   "metadata": {},
   "source": [
    "# Q2 — Temporal Trends (Monthly, Weekday/Weekend, Category Trends)\n",
    "**Source:** `violations_routes_filtered.csv`\n",
    "**Scope:** M101, M60+, M15+; `is_exempt == True`"
   ]
  },
  {
   "cell_type": "code",
   "execution_count": null,
   "id": "9d0f99a0",
   "metadata": {},
   "outputs": [],
   "source": [
    "# Imports\n",
    "import pandas as pd, numpy as np\n",
    "from pathlib import Path\n",
    "from IPython.display import display  # for DataFrame display in notebooks\n"
   ]
  },
  {
   "cell_type": "code",
   "execution_count": null,
   "id": "dacebc53",
   "metadata": {},
   "outputs": [],
   "source": [
    "# Load dataset and select columns\n",
    "DATA = \"/mnt/data/violations_routes_filtered.csv\"\n",
    "usecols = [\"Bus Route ID\",\"Datetime\",\"is_exempt\",\"Violation Status\"]\n",
    "df = pd.read_csv(DATA, usecols=usecols, low_memory=True)\n",
    "df.columns = [c.strip() for c in df.columns]\n"
   ]
  },
  {
   "cell_type": "code",
   "execution_count": null,
   "id": "12792f69",
   "metadata": {},
   "outputs": [],
   "source": [
    "# Normalize route names and tag routes of interest\n",
    "def route_tag(r):\n",
    "    if pd.isna(r): return None\n",
    "    r = str(r).upper().strip()\n",
    "    if r.startswith(\"M101\"): return \"M101\"\n",
    "    if r.startswith(\"M60\"):  return \"M60+\" if (\"SBS\" in r or \"+\" in r or \"-SBS\" in r or \"-\" in r) else \"M60\"\n",
    "    if r.startswith(\"M15\"):  return \"M15+\" if ((\"SBS\" in r) or (\"+\" in r) or (\"-SBS\" in r)) else \"M15\"\n",
    "    return r\n",
    "\n",
    "df[\"route_tag\"] = df[\"Bus Route ID\"].apply(route_tag)\n",
    "df = df[df[\"route_tag\"].isin([\"M101\",\"M60+\",\"M15+\"])]\n",
    "df[\"is_exempt\"] = df[\"is_exempt\"].astype(str).str.lower().isin([\"true\",\"1\",\"t\",\"yes\",\"y\"])\n"
   ]
  },
  {
   "cell_type": "code",
   "execution_count": null,
   "id": "086cca5f",
   "metadata": {},
   "outputs": [],
   "source": [
    "# Parse timestamps and derive month period\n",
    "df[\"Datetime\"] = pd.to_datetime(df[\"Datetime\"], errors=\"coerce\", infer_datetime_format=True)\n",
    "df[\"month\"] = df[\"Datetime\"].dt.to_period(\"M\").astype(str)\n"
   ]
  },
  {
   "cell_type": "code",
   "execution_count": null,
   "id": "5d1eb3d2",
   "metadata": {},
   "outputs": [],
   "source": [
    "# Filter to exempt events\n",
    "ex = df[df[\"is_exempt\"]==True].copy()\n"
   ]
  },
  {
   "cell_type": "code",
   "execution_count": null,
   "id": "4ed321c0",
   "metadata": {},
   "outputs": [],
   "source": [
    "# Build monthly totals and exempt shares\n",
    "monthly_total = df.groupby([\"route_tag\",\"month\"]).size().rename(\"total_violations\").reset_index()\n",
    "monthly_ex = ex.groupby([\"route_tag\",\"month\"]).size().rename(\"exempt_violations\").reset_index()\n",
    "monthly = monthly_total.merge(monthly_ex, on=[\"route_tag\",\"month\"], how=\"left\").fillna({\"exempt_violations\":0})\n",
    "monthly[\"exempt_share_pct\"] = (monthly[\"exempt_violations\"]/monthly[\"total_violations\"]*100).round(2)\n",
    "display(monthly.head(36))\n"
   ]
  },
  {
   "cell_type": "code",
   "execution_count": null,
   "id": "534ed737",
   "metadata": {},
   "outputs": [],
   "source": [
    "# Weekday/weekend status mix for exempt events\n",
    "ex[\"weekday\"] = ex[\"Datetime\"].dt.dayofweek\n",
    "ex[\"is_weekday\"] = ex[\"weekday\"] < 5\n",
    "wkd = (ex.groupby([\"route_tag\",\"is_weekday\",\"Violation Status\"]).size()\n",
    "       .rename(\"count\").reset_index())\n",
    "wkd[\"pct\"] = (wkd[\"count\"]/wkd.groupby([\"route_tag\",\"is_weekday\"])[\"count\"].transform(\"sum\")*100).round(2)\n",
    "display(wkd.head(36))\n"
   ]
  },
  {
   "cell_type": "code",
   "execution_count": null,
   "id": "cc59701e",
   "metadata": {},
   "outputs": [],
   "source": [
    "# Monthly category shares for exempt events\n",
    "cat_month = (ex.groupby([\"route_tag\",\"month\",\"Violation Status\"]).size().rename(\"count\").reset_index())\n",
    "cat_month[\"month_total\"] = cat_month.groupby([\"route_tag\",\"month\"])[\"count\"].transform(\"sum\")\n",
    "cat_month[\"share_pct\"] = (cat_month[\"count\"]/cat_month[\"month_total\"]*100).round(2)\n",
    "display(cat_month.head(36))\n"
   ]
  },
  {
   "cell_type": "code",
   "execution_count": null,
   "id": "65ed0319",
   "metadata": {},
   "outputs": [],
   "source": [
    "# Helper: compute first-3 vs last-3 months deltas in category share\n",
    "def period_delta(df_in):\n",
    "    out = []\n",
    "    for r, g in df_in.groupby(\"route_tag\"):\n",
    "        g2 = g.sort_values(\"month\")\n",
    "        months = g2[\"month\"].unique()\n",
    "        if len(months) < 6:\n",
    "            continue\n",
    "        first3, last3 = months[:3], months[-3:]\n",
    "        a_first = g2[g2[\"month\"].isin(first3)].groupby(\"Violation Status\")[\"share_pct\"].mean()\n",
    "        a_last  = g2[g2[\"month\"].isin(last3)].groupby(\"Violation Status\")[\"share_pct\"].mean()\n",
    "        for s in sorted(set(a_first.index).union(a_last.index)):\n",
    "            out.append({\n",
    "                \"route_tag\": r,\n",
    "                \"Violation Status\": s,\n",
    "                \"avg_share_first3\": round(float(a_first.get(s, 0.0)),2),\n",
    "                \"avg_share_last3\":  round(float(a_last.get(s, 0.0)),2),\n",
    "                \"delta_points\":     round(float(a_last.get(s, 0.0) - a_first.get(s, 0.0)),2)\n",
    "            })\n",
    "    return pd.DataFrame(out).sort_values([\"route_tag\",\"delta_points\"], ascending=[True, False])\n"
   ]
  },
  {
   "cell_type": "code",
   "execution_count": null,
   "id": "266a2986",
   "metadata": {},
   "outputs": [],
   "source": [
    "# Compute and display deltas\n",
    "cat_deltas = period_delta(cat_month)\n",
    "display(cat_deltas)\n"
   ]
  },
  {
   "cell_type": "code",
   "execution_count": null,
   "id": "a6fc6522",
   "metadata": {},
   "outputs": [],
   "source": [
    "# Save outputs to disk\n",
    "outdir = Path(\"/mnt/data/q2_notebooks/outputs\"); outdir.mkdir(parents=True, exist_ok=True)\n",
    "monthly.to_csv(outdir/\"monthly_series.csv\", index=False)\n",
    "wkd.to_csv(outdir/\"weekday_weekend_status_mix.csv\", index=False)\n",
    "cat_month.to_csv(outdir/\"category_share_trends.csv\", index=False)\n",
    "cat_deltas.to_csv(outdir/\"category_share_trend_deltas.csv\", index=False)\n",
    "print(\"Saved outputs to\", outdir)"
   ]
  }
 ],
 "metadata": {
  "language_info": {
   "name": "python"
  }
 },
 "nbformat": 4,
 "nbformat_minor": 5
}
