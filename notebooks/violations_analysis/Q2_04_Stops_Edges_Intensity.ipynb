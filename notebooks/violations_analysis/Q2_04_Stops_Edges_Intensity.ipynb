{
 "cells": [
  {
   "cell_type": "markdown",
   "id": "c7891721",
   "metadata": {},
   "source": [
    "# Q2 — Stops, Campus Anchors, Edge Spillover, Exemption Intensity\n",
    "**Source:** `violations_routes_filtered.csv`\n",
    "**Scope:** M101, M60+, M15+; `is_exempt == True`"
   ]
  },
  {
   "cell_type": "code",
   "execution_count": null,
   "id": "59da25c3",
   "metadata": {},
   "outputs": [],
   "source": [
    "# Imports\n",
    "import pandas as pd, numpy as np, re\n",
    "from pathlib import Path\n",
    "from IPython.display import display  # for DataFrame display in notebooks\n"
   ]
  },
  {
   "cell_type": "code",
   "execution_count": null,
   "id": "9241c456",
   "metadata": {},
   "outputs": [],
   "source": [
    "# Load dataset and select columns\n",
    "DATA = \"/mnt/data/violations_routes_filtered.csv\"\n",
    "usecols = [\"Bus Route ID\",\"Datetime\",\"is_exempt\",\"Stop Name\",\"Violation Status\",\n",
    "           \"Violation Latitude\",\"Violation Longitude\",\"Vehicle ID\"]\n",
    "df = pd.read_csv(DATA, usecols=usecols, low_memory=True)\n",
    "df.columns = [c.strip() for c in df.columns]\n"
   ]
  },
  {
   "cell_type": "code",
   "execution_count": null,
   "id": "eef518b5",
   "metadata": {},
   "outputs": [],
   "source": [
    "# Normalize route names and tag routes of interest\n",
    "def route_tag(r):\n",
    "    if pd.isna(r): return None\n",
    "    r = str(r).upper().strip()\n",
    "    if r.startswith(\"M101\"): return \"M101\"\n",
    "    if r.startswith(\"M60\"):  return \"M60+\" if (\"SBS\" in r or \"+\" in r or \"-SBS\" in r or \"-\" in r) else \"M60\"\n",
    "    if r.startswith(\"M15\"):  return \"M15+\" if ((\"SBS\" in r) or (\"+\" in r) or (\"-SBS\" in r)) else \"M15\"\n",
    "    return r\n",
    "\n",
    "df[\"route_tag\"] = df[\"Bus Route ID\"].apply(route_tag)\n",
    "df = df[df[\"route_tag\"].isin([\"M101\",\"M60+\",\"M15+\"])]\n",
    "df[\"is_exempt\"] = df[\"is_exempt\"].astype(str).str.lower().isin([\"true\",\"1\",\"t\",\"yes\",\"y\"])\n",
    "ex = df[df[\"is_exempt\"]==True].copy()\n"
   ]
  },
  {
   "cell_type": "code",
   "execution_count": null,
   "id": "066d46ef",
   "metadata": {},
   "outputs": [],
   "source": [
    "# Helper to compute top stops by exempt count for a subset\n",
    "def top_stops(d, topn=20):\n",
    "    grp = (d.groupby(\"Stop Name\").size().rename(\"exempt_count\")\n",
    "           .reset_index().sort_values(\"exempt_count\", ascending=False).head(topn))\n",
    "    total = d.shape[0]\n",
    "    grp[\"share_pct\"] = (grp[\"exempt_count\"]/total*100).round(2) if total else 0.0\n",
    "    return grp\n",
    "\n",
    "for r in [\"M101\",\"M60+\",\"M15+\"]:\n",
    "    print(f\"\\n=== Top stops — {r} ===\")\n",
    "    display(top_stops(ex[ex[\"route_tag\"]==r], 20))\n"
   ]
  },
  {
   "cell_type": "code",
   "execution_count": null,
   "id": "d6b52c6d",
   "metadata": {},
   "outputs": [],
   "source": [
    "# Count campus-adjacent exemptions using stop-name regex patterns\n",
    "CUNY_PATS = {\n",
    "    \"M101\": [r\"LEXINGTON AV/E 68 ST\", r\"\\b68 ST\\b\", r\"\\bE 68\\b\", r\"LEXINGTON AV/E 79 ST\", r\"3 AV/E 60 ST\"],\n",
    "    \"M60+\": [r\"\\b125 ST\\b\", r\"AMSTERDAM\", r\"PARK AV\"],\n",
    "    \"M15+\": [r\"\\b23 ST\\b\", r\"2 AV/E 23 ST\", r\"FULTON ST\", r\"CHAMBERS ST\"],\n",
    "}\n",
    "\n",
    "def count_patterns(d, pats):\n",
    "    s = d[\"Stop Name\"].fillna(\"\").str.upper()\n",
    "    mask = s.str.contains(pats[0], regex=True)\n",
    "    for p in pats[1:]:\n",
    "        mask = mask | s.str.contains(p, regex=True)\n",
    "    return int(mask.sum()), int(d.shape[0])\n",
    "\n",
    "rows = []\n",
    "for r in [\"M101\",\"M60+\",\"M15+\"]:\n",
    "    d = ex[ex[\"route_tag\"]==r]\n",
    "    cnt, tot = count_patterns(d, CUNY_PATS[r])\n",
    "    rows.append([r, cnt, tot, round(100*cnt/tot if tot else 0.0, 2)])\n",
    "\n",
    "campus = pd.DataFrame(rows, columns=[\"route\",\"cuny_adj_exempt\",\"total_exempt\",\"share_pct\"])\n",
    "print(\"\\n=== Campus-adjacent shares ===\")\n",
    "display(campus)\n"
   ]
  },
  {
   "cell_type": "code",
   "execution_count": null,
   "id": "72e16fb0",
   "metadata": {},
   "outputs": [],
   "source": [
    "# Compute exemption intensity (share of all violations)\n",
    "ex_counts = ex.groupby(\"route_tag\").size().rename(\"exempt\").reset_index()\n",
    "tot_counts = df.groupby(\"route_tag\").size().rename(\"total\").reset_index()\n",
    "intensity = tot_counts.merge(ex_counts, on=\"route_tag\", how=\"left\").fillna({\"exempt\":0})\n",
    "intensity[\"exempt_share_pct\"] = (intensity[\"exempt\"]/intensity[\"total\"]*100).round(2)\n",
    "print(\"\\n=== Exemption intensity (share of all violations) ===\")\n",
    "display(intensity)\n"
   ]
  },
  {
   "cell_type": "code",
   "execution_count": null,
   "id": "94ba78a6",
   "metadata": {},
   "outputs": [],
   "source": [
    "# Count edge/approach-location exemptions via regex patterns\n",
    "EDGE_PATS = {\n",
    "    \"M60+\": [r\"HOYT AV\", r\"TRIBORO\", r\"RFK\", r\"\\bBRIDGE\\b\", r\"ASTORIA BLVD\"],\n",
    "    \"M15+\": [r\"QUEENSBORO\", r\"\\b59 ST\\b\", r\"TUNNEL\", r\"\\bFDR\\b\", r\"BATTERY PARK\", r\"WATER ST\", r\"PEARL ST\", r\"FULTON ST\"],\n",
    "    \"M101\": [r\"\\b125 ST\\b\", r\"AMSTERDAM\", r\"HARLEM RIVER\", r\"RFK\"],\n",
    "}\n",
    "\n",
    "edge_rows = []\n",
    "for r in [\"M101\",\"M60+\",\"M15+\"]:\n",
    "    d = ex[ex[\"route_tag\"]==r]\n",
    "    s = d[\"Stop Name\"].fillna(\"\").str.upper()\n",
    "    pats = EDGE_PATS.get(r, [])\n",
    "    if pats:\n",
    "        mask = s.str.contains(pats[0], regex=True)\n",
    "        for p in pats[1:]:\n",
    "            mask = mask | s.str.contains(p, regex=True)\n",
    "        cnt = int(mask.sum()); tot = int(d.shape[0])\n",
    "        edge_rows.append([r, cnt, tot, round(100*cnt/tot if tot else 0.0, 2)])\n",
    "\n",
    "edges = pd.DataFrame(edge_rows, columns=[\"route\",\"edge_exemptions\",\"total_exempt\",\"edge_share_pct\"])\n",
    "print(\"\\n=== Edge/approach shares ===\")\n",
    "display(edges)\n"
   ]
  },
  {
   "cell_type": "code",
   "execution_count": null,
   "id": "2132e58d",
   "metadata": {},
   "outputs": [],
   "source": [
    "# Save outputs to disk\n",
    "outdir = Path(\"/mnt/data/q2_notebooks/outputs\"); outdir.mkdir(parents=True, exist_ok=True)\n",
    "campus.to_csv(outdir/\"campus_adjacent_shares.csv\", index=False)\n",
    "intensity.to_csv(outdir/\"exemption_intensity.csv\", index=False)\n",
    "edges.to_csv(outdir/\"edge_shares.csv\", index=False)\n",
    "print(\"Saved outputs to\", outdir)\n"
   ]
  }
 ],
 "metadata": {
  "language_info": {
   "name": "python"
  }
 },
 "nbformat": 4,
 "nbformat_minor": 5
}
