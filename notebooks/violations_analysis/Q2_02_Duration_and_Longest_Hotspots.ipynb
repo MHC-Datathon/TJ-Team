{
 "cells": [
  {
   "cell_type": "markdown",
   "id": "f5530029",
   "metadata": {},
   "source": [
    "# Q2 — Duration & Longest-Block Hotspots (Exact Recompute)\n",
    "**Source:** `violations_routes_filtered.csv`\n",
    "**Scope:** M101, M60+, M15+; `is_exempt == True`"
   ]
  },
  {
   "cell_type": "code",
   "execution_count": null,
   "id": "bf645171",
   "metadata": {},
   "outputs": [],
   "source": [
    "# Imports\n",
    "import pandas as pd, numpy as np\n",
    "from pathlib import Path\n",
    "from IPython.display import display  # for DataFrame display in notebooks\n"
   ]
  },
  {
   "cell_type": "code",
   "execution_count": null,
   "id": "d1230658",
   "metadata": {},
   "outputs": [],
   "source": [
    "# Load dataset and select columns\n",
    "DATA = \"/mnt/data/violations_routes_filtered.csv\"\n",
    "usecols = [\"Bus Route ID\",\"Datetime\",\"First Occurrence\",\"Last Occurrence\",\"is_exempt\",\n",
    "           \"Violation Status\",\"Violation Type\",\"Stop Name\",\"Violation Latitude\",\"Violation Longitude\",\"Vehicle ID\"]\n",
    "df = pd.read_csv(DATA, usecols=usecols, low_memory=True)\n",
    "df.columns = [c.strip() for c in df.columns]\n"
   ]
  },
  {
   "cell_type": "code",
   "execution_count": null,
   "id": "82f3ebf9",
   "metadata": {},
   "outputs": [],
   "source": [
    "# Normalize route names and tag routes of interest\n",
    "def route_tag(r):\n",
    "    if pd.isna(r): return None\n",
    "    r = str(r).upper().strip()\n",
    "    if r.startswith(\"M101\"): return \"M101\"\n",
    "    if r.startswith(\"M60\"):  return \"M60+\" if (\"SBS\" in r or \"+\" in r or \"-SBS\" in r or \"-\" in r) else \"M60\"\n",
    "    if r.startswith(\"M15\"):  return \"M15+\" if ((\"SBS\" in r) or (\"+\" in r) or (\"-SBS\" in r)) else \"M15\"\n",
    "    return r\n",
    "\n",
    "df[\"route_tag\"] = df[\"Bus Route ID\"].apply(route_tag)\n",
    "df = df[df[\"route_tag\"].isin([\"M101\",\"M60+\",\"M15+\"])]\n",
    "df[\"is_exempt\"] = df[\"is_exempt\"].astype(str).str.lower().isin([\"true\",\"1\",\"t\",\"yes\",\"y\"])\n"
   ]
  },
  {
   "cell_type": "code",
   "execution_count": null,
   "id": "83c76f0b",
   "metadata": {},
   "outputs": [],
   "source": [
    "# Filter to exempt events and parse timestamps\n",
    "ex = df[df[\"is_exempt\"]==True].copy()\n",
    "for col in [\"Datetime\",\"First Occurrence\",\"Last Occurrence\"]:\n",
    "    ex[col] = pd.to_datetime(ex[col], errors=\"coerce\", infer_datetime_format=True)\n"
   ]
  },
  {
   "cell_type": "code",
   "execution_count": null,
   "id": "568d554a",
   "metadata": {},
   "outputs": [],
   "source": [
    "# Compute event duration (minutes) and clean negatives\n",
    "ex[\"duration_min\"] = (ex[\"Last Occurrence\"] - ex[\"First Occurrence\"]).dt.total_seconds()/60.0\n",
    "ex.loc[ex[\"duration_min\"] < 0, \"duration_min\"] = np.nan\n"
   ]
  },
  {
   "cell_type": "code",
   "execution_count": null,
   "id": "50900308",
   "metadata": {},
   "outputs": [],
   "source": [
    "# Summarize durations by route\n",
    "dur_route = (ex.groupby(\"route_tag\")[\"duration_min\"]\n",
    "             .agg(n_events=\"count\", avg_min=\"mean\", median_min=\"median\",\n",
    "                  p90_min=lambda s: np.nanpercentile(s.dropna(), 90) if s.notna().any() else np.nan,\n",
    "                  max_min=\"max\").reset_index().round(2))\n",
    "display(dur_route)\n"
   ]
  },
  {
   "cell_type": "code",
   "execution_count": null,
   "id": "d62cfe86",
   "metadata": {},
   "outputs": [],
   "source": [
    "# Summarize durations by route and violation status\n",
    "dur_status = (ex.groupby([\"route_tag\",\"Violation Status\"])[\"duration_min\"]\n",
    "              .agg(n_events=\"count\", avg_min=\"mean\", median_min=\"median\",\n",
    "                   p90_min=lambda s: np.nanpercentile(s.dropna(), 90) if s.notna().any() else np.nan,\n",
    "                   max_min=\"max\").reset_index().round(2))\n",
    "display(dur_status.sort_values([\"route_tag\",\"avg_min\"], ascending=[True, False]).groupby(\"route_tag\").head(10))\n"
   ]
  },
  {
   "cell_type": "code",
   "execution_count": null,
   "id": "13b08f53",
   "metadata": {},
   "outputs": [],
   "source": [
    "# Show the longest single events per route\n",
    "cols = [\"First Occurrence\",\"Last Occurrence\",\"duration_min\",\"Violation Status\",\"Violation Type\",\n",
    "        \"Stop Name\",\"Violation Latitude\",\"Violation Longitude\",\"Vehicle ID\"]\n",
    "for r in [\"M101\",\"M60+\",\"M15+\"]:\n",
    "    d = ex[ex[\"route_tag\"]==r].sort_values(\"duration_min\", ascending=False)[cols].head(10)\n",
    "    print(f\"\\n=== Longest single events — {r} ===\")\n",
    "    display(d)\n"
   ]
  },
  {
   "cell_type": "code",
   "execution_count": null,
   "id": "1c13458a",
   "metadata": {},
   "outputs": [],
   "source": [
    "# Identify duration hotspots by lat/lon rounding with minimum event threshold\n",
    "def duration_hotspots(d, decimals=4, min_events=10, topn=10):\n",
    "    x = d.copy()\n",
    "    x[\"lat_r\"] = x[\"Violation Latitude\"].round(decimals)\n",
    "    x[\"lon_r\"] = x[\"Violation Longitude\"].round(decimals)\n",
    "    grp = (x.groupby([\"lat_r\",\"lon_r\"])\n",
    "           .agg(n=(\"duration_min\",\"count\"),\n",
    "                avg_min=(\"duration_min\",\"mean\"),\n",
    "                median_min=(\"duration_min\",\"median\"))\n",
    "           .reset_index())\n",
    "    grp = grp[grp[\"n\"] >= min_events].sort_values([\"avg_min\",\"n\"], ascending=[False, False]).head(topn)\n",
    "    mode_stop = (x.groupby([\"lat_r\",\"lon_r\"])[\"Stop Name\"]\n",
    "                 .agg(lambda s: s.mode().iloc[0] if not s.mode().empty else None).reset_index())\n",
    "    return grp.merge(mode_stop, on=[\"lat_r\",\"lon_r\"], how=\"left\")\n"
   ]
  },
  {
   "cell_type": "code",
   "execution_count": null,
   "id": "8059e743",
   "metadata": {},
   "outputs": [],
   "source": [
    "# Display duration hotspots per route\n",
    "for r in [\"M101\",\"M60+\",\"M15+\"]:\n",
    "    dh = duration_hotspots(ex[ex[\"route_tag\"]==r])\n",
    "    print(f\"\\n=== Duration hotspots — {r} ===\")\n",
    "    display(dh)\n"
   ]
  },
  {
   "cell_type": "code",
   "execution_count": null,
   "id": "5cbbc895",
   "metadata": {},
   "outputs": [],
   "source": [
    "# Save outputs to disk\n",
    "outdir = Path(\"/mnt/data/q2_notebooks/outputs\"); outdir.mkdir(parents=True, exist_ok=True)\n",
    "dur_route.to_csv(outdir/\"duration_by_route.csv\", index=False)\n",
    "dur_status.to_csv(outdir/\"duration_by_status.csv\", index=False)\n",
    "print(\"Saved outputs to\", outdir)\n"
   ]
  }
 ],
 "metadata": {
  "language_info": {
   "name": "python"
  }
 },
 "nbformat": 4,
 "nbformat_minor": 5
}
